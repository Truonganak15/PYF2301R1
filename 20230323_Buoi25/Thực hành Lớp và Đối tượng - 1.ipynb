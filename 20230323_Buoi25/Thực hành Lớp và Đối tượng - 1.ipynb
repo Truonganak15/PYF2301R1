{
 "cells": [
  {
   "cell_type": "code",
   "execution_count": null,
   "id": "1b7705b3",
   "metadata": {},
   "outputs": [],
   "source": [
    "\"\"\"\n",
    "Viết class NhanVien gồm các thuộc tính:\n",
    "+ Tên\n",
    "+ Tuổi\n",
    "+ Địa chỉ\n",
    "+ Tiền lương\n",
    "+ Tổng số giờ làm\n",
    "\n",
    "Và các phương thức:\n",
    "- Phương thức tạo\n",
    "- input_info() : Nhập các thông tin cho nhân viên từ bàn phím\n",
    "- print_info() : In ra tất cả các thông tin của nhân viên\n",
    "- tinh_thuong(): Tính toán và trả về số tiền thưởng của nhân viên theo công thức sau:\n",
    "Nếu tổng số giờ làm của nhân viên >=200 thì thưởng = lương * 20%\n",
    "Nếu tổng số giờ làm của nhân viên <200 và >=100 thì thưởng = lương * 10%\n",
    "Nếu tổng số giờ làm của nhân viên <100 thì thưởng = 0\n",
    "\"\"\""
   ]
  },
  {
   "cell_type": "code",
   "execution_count": 2,
   "id": "3cf0f41d",
   "metadata": {},
   "outputs": [
    {
     "name": "stdout",
     "output_type": "stream",
     "text": [
      "Please input name: Anna\n",
      "Please input age: 25\n",
      "Please input address: 123 hoa binh\n",
      "Please input salary: 10000\n",
      "Please input working hour: 150\n",
      "Employee name : Anna\n",
      "Employee age: 25\n",
      "Employee address: 123 hoa binh\n",
      "Employee salary: 10000\n",
      "Employee total working hour: 150\n",
      "Employee bonus: 1000.0\n"
     ]
    }
   ],
   "source": [
    "class NhanVien:\n",
    "    def __init__(self):\n",
    "        self.name = ''\n",
    "        self.age = ''\n",
    "        self.address = ''\n",
    "        self.salary = ''\n",
    "        self.total_working_hour = ''\n",
    "    \n",
    "    def input_info(self):\n",
    "        self.name = input('Please input name: ')\n",
    "        self.age = int(input('Please input age: '))\n",
    "        self.address = input('Please input address: ')\n",
    "        self.salary = int(input('Please input salary: '))\n",
    "        self.total_working_hour = int(input('Please input working hour: '))\n",
    "    \n",
    "    def calc_bonus(self):\n",
    "        bonus = 0\n",
    "        if 100 <= self.total_working_hour < 200:\n",
    "            bonus = 0.1 * self.salary\n",
    "        elif self.total_working_hour >= 200:\n",
    "            bonus = 0.2 * self.salary\n",
    "        return bonus\n",
    "\n",
    "    def print_info(self):\n",
    "        print(f\"Employee name : {self.name}\")\n",
    "        print(f\"Employee age: {self.age}\")\n",
    "        print(f\"Employee address: {self.address}\")\n",
    "        print(f\"Employee salary: {self.salary}\")\n",
    "        print(f\"Employee total working hour: {self.total_working_hour}\")\n",
    "        print(f\"Employee bonus: {self.calc_bonus()}\")\n",
    "\n",
    "emp1 = NhanVien()\n",
    "emp1.input_info()\n",
    "emp1.print_info()"
   ]
  },
  {
   "cell_type": "code",
   "execution_count": null,
   "id": "04cb6a0b",
   "metadata": {},
   "outputs": [],
   "source": []
  }
 ],
 "metadata": {
  "kernelspec": {
   "display_name": "Python 3 (ipykernel)",
   "language": "python",
   "name": "python3"
  },
  "language_info": {
   "codemirror_mode": {
    "name": "ipython",
    "version": 3
   },
   "file_extension": ".py",
   "mimetype": "text/x-python",
   "name": "python",
   "nbconvert_exporter": "python",
   "pygments_lexer": "ipython3",
   "version": "3.11.1"
  }
 },
 "nbformat": 4,
 "nbformat_minor": 5
}
