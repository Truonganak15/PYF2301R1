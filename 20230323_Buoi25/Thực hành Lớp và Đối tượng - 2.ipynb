{
 "cells": [
  {
   "cell_type": "code",
   "execution_count": null,
   "id": "a42fa0c7",
   "metadata": {},
   "outputs": [],
   "source": [
    "\"\"\"\n",
    "Tạo class có tên MathUtils gồm có các thuộc tính và phương thức sau:\n",
    "+ Thuộc tính: number1, number2\n",
    "+ Phương thức:\n",
    "- Phương thức tạo __init()__\n",
    "- print_info(): dùng để hiển thị number1, number2\n",
    "- addition(): trả về kết quả phép cộng number1, number2\n",
    "- subtract(): trả về kết quả phép trừ number1, number2\n",
    "- multi(): trả về kết quả phép nhân number1, number2\n",
    "- division(): trả về kết quả phép chia number1, number2.\n",
    "\n",
    "Sau khi tạo class, khởi tạo một object SoHoc và in ra kết quả tính toán từ các hàm thực hiện phép tính\n",
    "\"\"\""
   ]
  },
  {
   "cell_type": "code",
   "execution_count": 12,
   "id": "180b4ef5",
   "metadata": {},
   "outputs": [
    {
     "name": "stdout",
     "output_type": "stream",
     "text": [
      "Number 1: 10\n",
      "Number 2: 5\n",
      "10 + 5 = 15\n",
      "10 - 5 = 5\n",
      "10 * 5 = 50\n",
      "10 / 5 = 2.0\n"
     ]
    }
   ],
   "source": [
    "class MathUtils:\n",
    "    def __init__(self, number1, numnber2):\n",
    "        self.number1 = number1\n",
    "        self.number2 = number2\n",
    "    \n",
    "    def print_info(self):\n",
    "        print(f\"Number 1: {self.number1}\")\n",
    "        print(F\"Number 2: {self.number2}\")\n",
    "    \n",
    "    def add(self):\n",
    "        return self.number1 + self.number2\n",
    "    \n",
    "    def subtract(self):\n",
    "        return self.number1 - self.number2\n",
    "    \n",
    "    def multiply(self):\n",
    "        return self.number1 * self.number2\n",
    "    \n",
    "    def divide(self):\n",
    "        return self.number1 / self.number2\n",
    "    \n",
    "number1 = 10\n",
    "number2 = 5\n",
    "utils = MathUtils(number1, number2)\n",
    "utils.print_info()\n",
    "print(f\"{utils.number1} + {utils.number2} = {utils.add()}\")\n",
    "print(f\"{utils.number1} - {utils.number2} = {utils.subtract()}\")\n",
    "print(f\"{utils.number1} * {utils.number2} = {utils.multiply()}\")\n",
    "print(f\"{utils.number1} / {utils.number2} = {utils.divide()}\")\n",
    "        "
   ]
  },
  {
   "cell_type": "code",
   "execution_count": null,
   "id": "f2ab41cf",
   "metadata": {},
   "outputs": [],
   "source": []
  }
 ],
 "metadata": {
  "kernelspec": {
   "display_name": "Python 3 (ipykernel)",
   "language": "python",
   "name": "python3"
  },
  "language_info": {
   "codemirror_mode": {
    "name": "ipython",
    "version": 3
   },
   "file_extension": ".py",
   "mimetype": "text/x-python",
   "name": "python",
   "nbconvert_exporter": "python",
   "pygments_lexer": "ipython3",
   "version": "3.11.1"
  }
 },
 "nbformat": 4,
 "nbformat_minor": 5
}
