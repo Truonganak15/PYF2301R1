{
 "cells": [
  {
   "cell_type": "code",
   "execution_count": null,
   "id": "272a3a95",
   "metadata": {},
   "outputs": [],
   "source": [
    "'''\n",
    "Khởi động 1: Viết chương trình in ra tất cả các số chia hết cho cả 5 và 7 trong khoảng từ 1500 đến 2700\n",
    "'''\n"
   ]
  },
  {
   "cell_type": "code",
   "execution_count": 1,
   "id": "983aaaa1",
   "metadata": {},
   "outputs": [
    {
     "name": "stdout",
     "output_type": "stream",
     "text": [
      "1505\n",
      "1540\n",
      "1575\n",
      "1610\n",
      "1645\n",
      "1680\n",
      "1715\n",
      "1750\n",
      "1785\n",
      "1820\n",
      "1855\n",
      "1890\n",
      "1925\n",
      "1960\n",
      "1995\n",
      "2030\n",
      "2065\n",
      "2100\n",
      "2135\n",
      "2170\n",
      "2205\n",
      "2240\n",
      "2275\n",
      "2310\n",
      "2345\n",
      "2380\n",
      "2415\n",
      "2450\n",
      "2485\n",
      "2520\n",
      "2555\n",
      "2590\n",
      "2625\n",
      "2660\n",
      "2695\n"
     ]
    }
   ],
   "source": [
    "i = 1500\n",
    "while i <=2700:\n",
    "    if i % 5 == 0 and i % 7 == 0:\n",
    "        print(i)\n",
    "    i+=1"
   ]
  },
  {
   "cell_type": "code",
   "execution_count": 2,
   "id": "83f9b824",
   "metadata": {},
   "outputs": [
    {
     "name": "stdout",
     "output_type": "stream",
     "text": [
      "1505\n",
      "1540\n",
      "1575\n",
      "1610\n",
      "1645\n",
      "1680\n",
      "1715\n",
      "1750\n",
      "1785\n",
      "1820\n",
      "1855\n",
      "1890\n",
      "1925\n",
      "1960\n",
      "1995\n",
      "2030\n",
      "2065\n",
      "2100\n",
      "2135\n",
      "2170\n",
      "2205\n",
      "2240\n",
      "2275\n",
      "2310\n",
      "2345\n",
      "2380\n",
      "2415\n",
      "2450\n",
      "2485\n",
      "2520\n",
      "2555\n",
      "2590\n",
      "2625\n",
      "2660\n",
      "2695\n"
     ]
    }
   ],
   "source": [
    "# Khởi động 1: Viết chương trình in ra tất cả các số chia hết cho cả 5 và 7 trong khoảng từ 1500 đến 2700\n",
    "i = 1500\n",
    "while i <= 2700:\n",
    "    if i % 5 == 0 and i % 7 == 0:\n",
    "        print(i)\n",
    "    i += 1"
   ]
  },
  {
   "cell_type": "code",
   "execution_count": null,
   "id": "18dbe371",
   "metadata": {},
   "outputs": [],
   "source": []
  },
  {
   "cell_type": "code",
   "execution_count": null,
   "id": "87f74c6c",
   "metadata": {},
   "outputs": [],
   "source": [
    "'''\n",
    "Bài 1: Viết chương trình nhập vào chiều cao tam giác vuông và in ra tam giác có hình dạng như sau:\n",
    "*****\n",
    "****\n",
    "***\n",
    "** \n",
    "*\n",
    "'''"
   ]
  },
  {
   "cell_type": "code",
   "execution_count": 1,
   "id": "83a7c661",
   "metadata": {},
   "outputs": [
    {
     "name": "stdout",
     "output_type": "stream",
     "text": [
      "please input height: 5\n",
      "*****\n",
      "****\n",
      "***\n",
      "**\n",
      "*\n"
     ]
    }
   ],
   "source": [
    "height = int(input(\"please input height: \"))\n",
    "i = height\n",
    "while i >= 1:\n",
    "    print (\"*\" * i)\n",
    "    i-=1"
   ]
  },
  {
   "cell_type": "code",
   "execution_count": 3,
   "id": "feeab1a5",
   "metadata": {},
   "outputs": [
    {
     "name": "stdout",
     "output_type": "stream",
     "text": [
      "please input height of triangle: 5\n",
      "*****\n",
      "****\n",
      "***\n",
      "**\n",
      "*\n"
     ]
    }
   ],
   "source": [
    "height = int(input(\"please input height of triangle: \"))\n",
    "i =  height\n",
    "while i >= 1:\n",
    "    print(\"*\" * i)\n",
    "    i-=1"
   ]
  },
  {
   "cell_type": "code",
   "execution_count": 2,
   "id": "ea4c14a8",
   "metadata": {},
   "outputs": [
    {
     "data": {
      "text/plain": [
       "'\\nBài 2: Viết chương trình nhập vào chiều cao tam giác vuông và in ra tam giác có hình dạng như sau:\\n* * * * * *\\n* * * * *\\n* * * *\\n* * *\\n* *\\n*\\n'"
      ]
     },
     "execution_count": 2,
     "metadata": {},
     "output_type": "execute_result"
    }
   ],
   "source": [
    "'''\n",
    "Bài 2: Viết chương trình nhập vào chiều cao tam giác vuông và in ra tam giác có hình dạng như sau:\n",
    "* * * * * *\n",
    "* * * * *\n",
    "* * * *\n",
    "* * *\n",
    "* *\n",
    "*\n",
    "'''"
   ]
  },
  {
   "cell_type": "code",
   "execution_count": 9,
   "id": "299f7857",
   "metadata": {},
   "outputs": [
    {
     "name": "stdout",
     "output_type": "stream",
     "text": [
      "please input height: 5\n",
      "* * * * *\n",
      "* * * *\n",
      "* * *\n",
      "* *\n",
      "*\n"
     ]
    }
   ],
   "source": [
    "height = int(input(\"please input height: \"))\n",
    "i = height\n",
    "while i >= 1:\n",
    "    print (\"* \" * (i-1)+ \"*\")\n",
    "    i-=1"
   ]
  },
  {
   "cell_type": "code",
   "execution_count": null,
   "id": "bd17e085",
   "metadata": {},
   "outputs": [],
   "source": [
    "'''\n",
    "Bài 3: Viết chương trình nhập vào chiều cao tam giác vuông và in ra tam giác có hình dạng như sau:\n",
    "* - * - *\n",
    "* - * -\n",
    "* - *\n",
    "* -\n",
    "*\n",
    "'''"
   ]
  },
  {
   "cell_type": "code",
   "execution_count": 3,
   "id": "f153ed0e",
   "metadata": {},
   "outputs": [
    {
     "name": "stdout",
     "output_type": "stream",
     "text": [
      "please input height of triangle: 5\n",
      "* - * - *\n",
      "* - * -\n",
      "* - *\n",
      "* -\n",
      "*\n"
     ]
    }
   ],
   "source": [
    "height = int(input(\"please input height of triangle: \"))\n",
    "i = height\n",
    "while i >= 1:\n",
    "    if i % 2 ==1:\n",
    "        print(\"* - \"*(i//2)+ \"*\")\n",
    "    if i % 2 == 0 :\n",
    "        print((\"* - \"*(i // 2)).strip())\n",
    "    i-=1"
   ]
  },
  {
   "cell_type": "code",
   "execution_count": null,
   "id": "105b66bc",
   "metadata": {},
   "outputs": [],
   "source": [
    "'''\n",
    "Bài 4: Viết chương trình nhập vào một số nguyên n và in ra các số từ 1 đến n với các trường hợp ngoại lệ như sau:\n",
    "- Nếu số đó chia hết cho 3 thì in \"py\"\n",
    "- Nếu số đó chia hết cho 7 thì in \"thon\"\n",
    "- Nếu số đó chia hết cho cả 3 và 7 thì in \"python\"\n",
    "\n",
    "Ví dụ: n = 25\n",
    "1\n",
    "2\n",
    "py\n",
    "4\n",
    "5\n",
    "py\n",
    "thon\n",
    "8\n",
    "py\n",
    "10\n",
    "11\n",
    "py\n",
    "13\n",
    "thon\n",
    "py\n",
    "16\n",
    "17\n",
    "py\n",
    "19\n",
    "20\n",
    "python\n",
    "22\n",
    "23\n",
    "py\n",
    "25\n",
    "'''"
   ]
  },
  {
   "cell_type": "code",
   "execution_count": 9,
   "id": "dc359218",
   "metadata": {},
   "outputs": [
    {
     "name": "stdout",
     "output_type": "stream",
     "text": [
      "Please input n: 25\n",
      "1\n",
      "2\n",
      "py\n",
      "4\n",
      "5\n",
      "py\n",
      "thon\n",
      "8\n",
      "py\n",
      "10\n",
      "11\n",
      "py\n",
      "13\n",
      "thon\n",
      "py\n",
      "16\n",
      "17\n",
      "py\n",
      "19\n",
      "20\n",
      "python\n",
      "22\n",
      "23\n",
      "py\n",
      "25\n"
     ]
    }
   ],
   "source": [
    "n = int(input(\"Please input n: \"))\n",
    "i = 1\n",
    "while i <= n:\n",
    "    if i % 3 ==0 and i % 7 == 0:\n",
    "        print('python') \n",
    "    elif i % 3 == 0:\n",
    "        print(\"py\")\n",
    "    elif i % 7 == 0:\n",
    "        print('thon')\n",
    "    else: print(i)\n",
    "    i += 1\n"
   ]
  },
  {
   "cell_type": "code",
   "execution_count": 19,
   "id": "3689744c",
   "metadata": {},
   "outputs": [
    {
     "name": "stdout",
     "output_type": "stream",
     "text": [
      "please input number: 11\n",
      "11 is a prime number\n"
     ]
    }
   ],
   "source": [
    "'''\n",
    "Bài 5: Viết chương trình nhập vào một số và kiểm tra xem số đó có phải là số nguyên tố hay không\n",
    "Note: Số nguyên tố là số chỉ chia hết cho 1 và chính nó\n",
    "'''\n",
    "number = int(input(\"please input number: \"))\n",
    "i = 2\n",
    "check = True  # gia dinh number la so nguyen to\n",
    "while i < number:\n",
    "    if number % i == 0:\n",
    "        print(f'{number} is not a prime number')\n",
    "        check = False # cap nhat lai gia dinh\n",
    "        break\n",
    "    i+= 1\n",
    "if check:\n",
    "    print(f'{number} is a prime number')\n",
    "else:\n",
    "    print(f'{number} is not a prime number')"
   ]
  },
  {
   "cell_type": "code",
   "execution_count": 2,
   "id": "d76fa311",
   "metadata": {},
   "outputs": [
    {
     "name": "stdout",
     "output_type": "stream",
     "text": [
      "Moi lua chon (1 -bua, 2- keo, 3 -bao): 3\n",
      "May tinh chon 2\n",
      "Người chơi thua.\n",
      "Moi lua chon (1 -bua, 2- keo, 3 -bao): 1\n",
      "May tinh chon 1\n",
      "Hòa nhau.\n",
      "Moi lua chon (1 -bua, 2- keo, 3 -bao): 1\n",
      "May tinh chon 2\n",
      "Người chơi thắng.\n"
     ]
    }
   ],
   "source": [
    "'''\n",
    "Bài 6: Viết chương trình mô phỏng trò chơi kéo búa bao theo luật chơi như sau:\n",
    "Quy ước: 1 - búa, 2 - kéo, 3 - bao\n",
    "Khi trò chơi bắt đầu, yêu cầu người chơi nhập 1 số từ bàn phím đại diện cho kéo, búa, bao\n",
    "Chương trình tự random ra một lựa chọn từ 1 đến 3.\n",
    "Nếu người chơi thua thì tiếp tục chơi cho đến khi thắng thì kết thúc chương trình.\n",
    "Ví dụ:\n",
    "\n",
    "Mời lựa chọn(1 - búa, 2 - kéo, 3 - bao): 1\n",
    "Máy tính chọn: 3\n",
    "Người chơi thua.\n",
    "\n",
    "Mời lựa chọn(1 - búa, 2 - kéo, 3 - bao): 2\n",
    "Máy tính chọn: 1\n",
    "Người chơi thua.\n",
    "\n",
    "Mời lựa chọn(1 - búa, 2 - kéo, 3 - bao): 1\n",
    "Máy tính chọn: 2\n",
    "Người chơi thắng.\n",
    "'''\n",
    "from random import randint\n",
    "# ghi nhận kết quả của trò chơi\n",
    "win = False\n",
    "while not win:\n",
    "    n = int(input(\"Moi lua chon (1 -bua, 2- keo, 3 -bao): \"))\n",
    "    m = randint(1, 3)\n",
    "    print(f'May tinh chon {m}')\n",
    "    if n == m:\n",
    "        print(\"Hòa nhau.\")\n",
    "    elif (n == 1 and m == 2) or (n == 2 and m == 3) or (n == 3 and m == 1):\n",
    "        print(\"Người chơi thắng.\")\n",
    "        win= True\n",
    "    else:\n",
    "        print(\"Người chơi thua.\")"
   ]
  },
  {
   "cell_type": "code",
   "execution_count": null,
   "id": "eb529e7d",
   "metadata": {},
   "outputs": [],
   "source": [
    "n = int(input(\"please input your choice: \"))\n",
    "m = int(input('Please input computer choice: '))\n",
    "if n == m:\n",
    "    print(\"Hòa nhau.\")\n",
    "elif (n == 1 and m == 2) or (n == 2 and m == 3) or (n == 3 and m == 1):\n",
    "    print(\"Người chơi thắng.\")\n",
    "else:\n",
    "    print(\"Người chơi thua.\")"
   ]
  },
  {
   "cell_type": "code",
   "execution_count": null,
   "id": "f3ebdd0c",
   "metadata": {},
   "outputs": [],
   "source": []
  }
 ],
 "metadata": {
  "kernelspec": {
   "display_name": "Python 3 (ipykernel)",
   "language": "python",
   "name": "python3"
  },
  "language_info": {
   "codemirror_mode": {
    "name": "ipython",
    "version": 3
   },
   "file_extension": ".py",
   "mimetype": "text/x-python",
   "name": "python",
   "nbconvert_exporter": "python",
   "pygments_lexer": "ipython3",
   "version": "3.11.1"
  }
 },
 "nbformat": 4,
 "nbformat_minor": 5
}
